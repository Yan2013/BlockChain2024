{
 "cells": [
  {
   "cell_type": "code",
   "execution_count": 1,
   "id": "2c214e30",
   "metadata": {},
   "outputs": [],
   "source": [
    "from __future__ import annotations # PEP 563: Postponed Evaluation of Annotations\n",
    "from dataclasses import dataclass # https://docs.python.org/3/library/dataclasses.html I like these a lot\n",
    "\n",
    "@dataclass\n",
    "class Curve:\n",
    "    \"\"\"\n",
    "    Elliptic Curve over the field of integers modulo a prime.\n",
    "    Points on the curve satisfy y^2 = x^3 + a*x + b (mod p).\n",
    "    \"\"\"\n",
    "    p: int # the prime modulus of the finite field\n",
    "    a: int\n",
    "    b: int"
   ]
  },
  {
   "cell_type": "code",
   "execution_count": 2,
   "id": "da4f6591",
   "metadata": {},
   "outputs": [],
   "source": [
    "@dataclass\n",
    "class Point:\n",
    "    \"\"\" An integer point (x,y) on a Curve \"\"\"\n",
    "    curve: Curve\n",
    "    x: int\n",
    "    y: int"
   ]
  },
  {
   "cell_type": "code",
   "execution_count": 3,
   "id": "c730aba6",
   "metadata": {},
   "outputs": [],
   "source": [
    "INF = Point(None, None, None) # special point at \"infinity\", kind of like a zero\n",
    "\n",
    "def extended_euclidean_algorithm(a, b):\n",
    "    \"\"\"\n",
    "    Returns (gcd, x, y) s.t. a * x + b * y == gcd\n",
    "    This function implements the extended Euclidean\n",
    "    algorithm and runs in O(log b) in the worst case,\n",
    "    taken from Wikipedia.\n",
    "    \"\"\"\n",
    "    old_r, r = a, b\n",
    "    old_s, s = 1, 0\n",
    "    old_t, t = 0, 1\n",
    "    while r != 0:\n",
    "        quotient = old_r // r\n",
    "        old_r, r = r, old_r - quotient * r\n",
    "        old_s, s = s, old_s - quotient * s\n",
    "        old_t, t = t, old_t - quotient * t\n",
    "    return old_r, old_s, old_t\n",
    "\n",
    "def inv(n, p):\n",
    "    \"\"\" returns modular multiplicate inverse m s.t. (n * m) % p == 1 \"\"\"\n",
    "    gcd, x, y = extended_euclidean_algorithm(n, p) # pylint: disable=unused-variable\n",
    "    return x % p\n",
    "\n",
    "def elliptic_curve_addition(self, other: Point) -> Point:\n",
    "    # handle special case of P + 0 = 0 + P = 0\n",
    "    if self == INF:\n",
    "        return other\n",
    "    if other == INF:\n",
    "        return self\n",
    "    # handle special case of P + (-P) = 0\n",
    "    if self.x == other.x and self.y != other.y:\n",
    "        return INF\n",
    "    # compute the \"slope\"\n",
    "    if self.x == other.x: # (self.y = other.y is guaranteed too per above check)\n",
    "        m = (3 * self.x**2 + self.curve.a) * inv(2 * self.y, self.curve.p)\n",
    "    else:\n",
    "        m = (self.y - other.y) * inv(self.x - other.x, self.curve.p)\n",
    "    # compute the new point\n",
    "    rx = (m**2 - self.x - other.x) % self.curve.p\n",
    "    ry = (-(m*(rx - self.x) + self.y)) % self.curve.p\n",
    "    return Point(self.curve, rx, ry)\n",
    "\n",
    "Point.__add__ = elliptic_curve_addition # monkey patch addition into the Point class"
   ]
  },
  {
   "cell_type": "code",
   "execution_count": 4,
   "id": "24ef37de",
   "metadata": {},
   "outputs": [],
   "source": [
    "def double_and_add(self, k: int) -> Point:\n",
    "    assert isinstance(k, int) and k >= 0\n",
    "    result = INF\n",
    "    append = self\n",
    "    while k:\n",
    "        if k & 1:\n",
    "            result += append  #addition\n",
    "        append += append  #2P  double \n",
    "        k >>= 1\n",
    "    return result\n",
    "\n",
    "# monkey patch double and add into the Point class for convenience\n",
    "Point.__rmul__ = double_and_add"
   ]
  },
  {
   "cell_type": "code",
   "execution_count": 5,
   "id": "4fdb6c64",
   "metadata": {},
   "outputs": [],
   "source": [
    "\n",
    "def elliptic_curve_subtraction(self, other: Point) -> Point:\n",
    "    result = Point(test_curve,    x = 0x0,    y = 0x0)\n",
    "    self.y = self.y *(-1)\n",
    "    result= elliptic_curve_addition(self,other)\n",
    "    result.y = result.y * (-1) %test_curve.p\n",
    "    return result\n",
    "\n",
    "Point.__sub__ = elliptic_curve_subtraction"
   ]
  },
  {
   "cell_type": "code",
   "execution_count": 6,
   "id": "66f609e6",
   "metadata": {},
   "outputs": [
    {
     "name": "stdout",
     "output_type": "stream",
     "text": [
      "Generator IS on the curve:  True\n",
      "x: 13\n",
      "y: 45\n",
      "Verify the public key is on the curve:  True\n",
      "M IS on the curve:  True\n",
      "C1 is:  Point(curve=Curve(p=67, a=2, b=3), x=35, y=1) C2 is:  Point(curve=Curve(p=67, a=2, b=3), x=21, y=44)\n",
      "decryption:  Point(curve=Curve(p=67, a=2, b=3), x=24, y=26)\n"
     ]
    }
   ],
   "source": [
    "test_curve = Curve(\n",
    "    p = 0x43,\n",
    "    a = 0x2, # a = 2\n",
    "    b = 0x3, # b = 3\n",
    ")\n",
    "\n",
    "test_G = Point(\n",
    "    test_curve,\n",
    "    x = 0x2,\n",
    "    y = 0x16,\n",
    ")\n",
    "\n",
    "# we can verify that the generator point is indeed on the curve, i.e. y^2 = x^3 + 2x+ 3 (mod p)\n",
    "print(\"Generator IS on the curve: \", (test_G.y**2 - test_G.x**3 -test_curve.a*test_G.x - test_curve.b) % test_curve.p == 0)\n",
    "\n",
    "test_secret_key = 4\n",
    "\n",
    "test_public_key = test_secret_key * test_G\n",
    "\n",
    "print(f\"x: {test_public_key.x}\\ny: {test_public_key.y}\")\n",
    "print(\"Verify the public key is on the curve: \", (test_public_key.y**2 - test_public_key.x**3 - test_curve.a*test_public_key.x - test_curve.b - 67) % test_curve.p == 0)\n",
    "\n",
    "r = 2\n",
    "\n",
    "M=Point(test_curve, x=0x18,y=0x1a,)\n",
    "print(\"M IS on the curve: \", (M.y**2 - M.x**3 -test_curve.a*M.x - test_curve.b - 67) % test_curve.p == 0)\n",
    "\n",
    "C1 = r * test_G\n",
    "C2 = M + r*test_public_key\n",
    "print(\"C1 is: \", C1, \"C2 is: \", C2 )\n",
    "\n",
    "\n",
    "print(\"decryption: \", C2-test_secret_key*C1)\n"
   ]
  }
 ],
 "metadata": {
  "kernelspec": {
   "display_name": "Python 3 (ipykernel)",
   "language": "python",
   "name": "python3"
  },
  "language_info": {
   "codemirror_mode": {
    "name": "ipython",
    "version": 3
   },
   "file_extension": ".py",
   "mimetype": "text/x-python",
   "name": "python",
   "nbconvert_exporter": "python",
   "pygments_lexer": "ipython3",
   "version": "3.9.13"
  }
 },
 "nbformat": 4,
 "nbformat_minor": 5
}
